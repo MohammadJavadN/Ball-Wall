{
  "cells": [
    {
      "cell_type": "markdown",
      "metadata": {
        "id": "view-in-github",
        "colab_type": "text"
      },
      "source": [
        "<a href=\"https://colab.research.google.com/github/MohammadJavadN/Ball-Wall/blob/main/HW_NN_Q2.ipynb\" target=\"_parent\"><img src=\"https://colab.research.google.com/assets/colab-badge.svg\" alt=\"Open In Colab\"/></a>"
      ]
    },
    {
      "cell_type": "markdown",
      "id": "9779e5d5",
      "metadata": {
        "id": "9779e5d5"
      },
      "source": [
        "<div align=center>\n",
        "\n",
        "<font size=5>\n",
        "    In the Name of God\n",
        "<font/>\n",
        "<br/>\n",
        "<br/>\n",
        "<font>\n",
        "    Sharif University of Technology - Departmenet of Electrical Engineering\n",
        "</font>\n",
        "<br/>\n",
        "<font>\n",
        "    Introducing with Machine Learing - Dr. S. Amini\n",
        "</font>\n",
        "<br/>\n",
        "<br/>\n",
        "Spring 2023\n",
        "\n",
        "</div>\n",
        "\n",
        "<hr/>\n",
        "<div align=center>\n",
        "<font size=6>\n",
        "    Neural Networks Practical Assignment\n",
        "    \n",
        "    Question 2\n",
        "</font>\n",
        "<br/>\t\t\n",
        "<font size=4>\n",
        "<br/>\n",
        "</div>"
      ]
    },
    {
      "cell_type": "markdown",
      "id": "1d55ee53",
      "metadata": {
        "id": "1d55ee53"
      },
      "source": [
        "# Personal Data"
      ]
    },
    {
      "cell_type": "code",
      "execution_count": 1,
      "id": "40e950d8",
      "metadata": {
        "id": "40e950d8"
      },
      "outputs": [],
      "source": [
        "# Set your student number\n",
        "student_number = 99102434\n",
        "Name = 'Mohammad Javad'\n",
        "Last_Name = 'Noroozi'"
      ]
    },
    {
      "cell_type": "markdown",
      "id": "2edb1e44",
      "metadata": {
        "id": "2edb1e44"
      },
      "source": [
        "# Rules\n",
        "- You are not allowed to add or remove cells. You **must use the provided space to write your code**. If you don't follow this rule, **your Practical Assignment won't be graded**.  \n",
        "\n",
        "- Collaboration and using the internet is allowed, but your code **must be written by yourself**. **Copying code** from each other or from available resources will result in a **zero score for the assignment**.\n",
        "\n",
        "- In this question, you are allowed to use `torch.optim`, `torch.nn` or any other submodule you need.\n",
        "- You **are not allowed** to use the models already implemented or the pretrained models in torch. "
      ]
    },
    {
      "cell_type": "code",
      "execution_count": null,
      "id": "7a15a195",
      "metadata": {
        "id": "7a15a195"
      },
      "outputs": [],
      "source": [
        "!pip install numpy\n",
        "!pip install matplotlib\n",
        "!pip install torchvision\n",
        "!pip install torch"
      ]
    },
    {
      "cell_type": "markdown",
      "id": "85c3b02e",
      "metadata": {
        "id": "85c3b02e"
      },
      "source": [
        "## Importing Libraries"
      ]
    },
    {
      "cell_type": "code",
      "execution_count": 2,
      "id": "b6246005",
      "metadata": {
        "id": "b6246005"
      },
      "outputs": [],
      "source": [
        "import torch\n",
        "from torchvision.datasets import FashionMNIST\n",
        "from torchvision import transforms\n",
        "from torch.utils.data import DataLoader\n",
        "\n",
        "import numpy as np\n",
        "from matplotlib import pyplot as plt\n",
        "from typing import Dict"
      ]
    },
    {
      "cell_type": "markdown",
      "id": "2c89754b",
      "metadata": {
        "id": "2c89754b"
      },
      "source": [
        "## Datasets and Dataloaders\n",
        "\n",
        "You should load the train and test set of the `CIFAR10` dataset and apply the desired transforms on it. Then, you should create the loaders for these `test` and `train` sets.\n",
        "- **Hint:** You can use `torchvision.datasets` to easily load the CIFAR10 dataset."
      ]
    },
    {
      "cell_type": "code",
      "execution_count": 3,
      "id": "40e10458",
      "metadata": {
        "colab": {
          "base_uri": "https://localhost:8080/"
        },
        "id": "40e10458",
        "outputId": "4b1ed5b6-c89c-48dc-d4a6-40179e32f853"
      },
      "outputs": [
        {
          "output_type": "stream",
          "name": "stdout",
          "text": [
            "Downloading https://www.cs.toronto.edu/~kriz/cifar-10-python.tar.gz to ./data/cifar-10-python.tar.gz\n"
          ]
        },
        {
          "output_type": "stream",
          "name": "stderr",
          "text": [
            "100%|██████████| 170498071/170498071 [00:04<00:00, 38756667.39it/s]\n"
          ]
        },
        {
          "output_type": "stream",
          "name": "stdout",
          "text": [
            "Extracting ./data/cifar-10-python.tar.gz to ./data\n",
            "Files already downloaded and verified\n"
          ]
        }
      ],
      "source": [
        "## FILL HERE\n",
        "import torchvision #todo: remove import\n",
        "transform = transforms.Compose([\n",
        "    transforms.ToTensor()\n",
        "])\n",
        "\n",
        "train_set = torchvision.datasets.CIFAR10(root='./data', train=True, download=True, transform=transform)\n",
        "test_set = torchvision.datasets.CIFAR10(root='./data', train=False, download=True, transform=transform)\n",
        "\n",
        "trainloader = DataLoader(train_set, batch_size=64, shuffle=True)\n",
        "testloader = DataLoader(test_set, batch_size=64, shuffle=False)\n",
        "\n",
        "classes = train_set.classes # for latest cell"
      ]
    },
    {
      "cell_type": "markdown",
      "id": "ee9a3be8",
      "metadata": {
        "id": "ee9a3be8"
      },
      "source": [
        "## Visualization\n",
        "\n",
        "Visualize 1 random image from each class\n"
      ]
    },
    {
      "cell_type": "code",
      "execution_count": 4,
      "id": "a1b039d1",
      "metadata": {
        "colab": {
          "base_uri": "https://localhost:8080/",
          "height": 360
        },
        "id": "a1b039d1",
        "outputId": "c550a70a-611e-47d9-b746-db61b8d29649"
      },
      "outputs": [
        {
          "output_type": "display_data",
          "data": {
            "text/plain": [
              "<Figure size 1000x400 with 10 Axes>"
            ],
            "image/png": "[encoded data removed]"
          },
          "metadata": {}
        }
      ],
      "source": [
        "## FILL HERE\n",
        "class_names = train_set.classes\n",
        "\n",
        "class_images = {}\n",
        "for class_name in class_names:\n",
        "  class_images[class_name] = None\n",
        "\n",
        "for images, labels in trainloader:\n",
        "  for i in range(len(labels)):\n",
        "    class_index = labels[i].item()\n",
        "    if class_images[class_names[class_index]] is None:\n",
        "      class_images[class_names[class_index]] = images[i]\n",
        "      if all([v is not None for v in class_images.values()]):\n",
        "        break\n",
        "  if all([v is not None for v in class_images.values()]):\n",
        "    break\n",
        "fig, axs = plt.subplots(2, 5, figsize=(10, 4))\n",
        "for i in range(len(class_names)):\n",
        "  axs[divmod(i, 5)].imshow(class_images[class_names[i]].permute(1, 2, 0))\n",
        "  axs[divmod(i, 5)].set_title(class_names[i])\n",
        "  axs[divmod(i, 5)].axis('off')\n",
        "plt.show()"
      ]
    },
    {
      "cell_type": "markdown",
      "id": "1221642e",
      "metadata": {
        "id": "1221642e"
      },
      "source": [
        "## Defining a Convolutional Neural Network\n",
        "\n",
        "In this section, you should define a class called `Net` which represents the model for your convolutional neural network.\n",
        "- **Hint:** You can use `torch.nn` to add the required layers to your model."
      ]
    },
    {
      "cell_type": "code",
      "execution_count": 5,
      "id": "0ba6a266",
      "metadata": {
        "id": "0ba6a266"
      },
      "outputs": [],
      "source": [
        "import torch.nn as nn\n",
        "import torch.nn.functional as F\n",
        "\n",
        "\n",
        "class Net(nn.Module):\n",
        "    def __init__(self):\n",
        "        super().__init__()\n",
        "        ## FILL HERE\n",
        "        self.conv1 = nn.Conv2d(in_channels=3, out_channels=32, kernel_size=3, padding=1)\n",
        "        self.conv2 = nn.Conv2d(in_channels=32, out_channels=64, kernel_size=3, padding=1)\n",
        "        self.pool = nn.MaxPool2d(kernel_size=2, stride=2)\n",
        "        self.fc1 = nn.Linear(in_features=64 * 8 * 8, out_features=256)\n",
        "        self.fc2 = nn.Linear(in_features=256, out_features=10)\n",
        "\n",
        "    def forward(self, x):\n",
        "        ## FILL HERE\n",
        "        x = self.pool(F.relu(self.conv1(x)))\n",
        "        x = self.pool(F.relu(self.conv2(x)))\n",
        "        x = x.view(-1, 64 * 8 * 8)\n",
        "        x = F.relu(self.fc1(x))\n",
        "        x = self.fc2(x)\n",
        "        return x\n",
        "\n",
        "net = Net()"
      ]
    },
    {
      "cell_type": "markdown",
      "id": "e3c27c9f",
      "metadata": {
        "id": "e3c27c9f"
      },
      "source": [
        "## Define a Loss function and optimizer"
      ]
    },
    {
      "cell_type": "markdown",
      "id": "a8f1eadd",
      "metadata": {
        "id": "a8f1eadd"
      },
      "source": [
        "In this section, you simply define your loss function and optimizer.\n",
        "- **Hint:** You can use `torch.optim` and implemented loss functions in torch."
      ]
    },
    {
      "cell_type": "code",
      "execution_count": 6,
      "id": "79068600",
      "metadata": {
        "id": "79068600"
      },
      "outputs": [],
      "source": [
        "## FILL HERE\n",
        "lossFunc = nn.CrossEntropyLoss()\n",
        "optimizer = torch.optim.Adam(net.parameters(), lr=0.001)"
      ]
    },
    {
      "cell_type": "markdown",
      "id": "b526ee28",
      "metadata": {
        "id": "b526ee28"
      },
      "source": [
        "## Training the model\n",
        "\n",
        "You should train your model for multiple epochs. You are free to choose the number of epochs. However, you should reach an acceptable accuracy at the end."
      ]
    },
    {
      "cell_type": "code",
      "execution_count": 7,
      "id": "fbf5c8d2",
      "metadata": {
        "colab": {
          "base_uri": "https://localhost:8080/"
        },
        "id": "fbf5c8d2",
        "outputId": "9175a0dc-6817-4337-97d8-f0c35b2763c9"
      },
      "outputs": [
        {
          "output_type": "stream",
          "name": "stdout",
          "text": [
            "Epoch [1, Batch   100]: Loss = 2.0054\n",
            "Epoch [1, Batch   200]: Loss = 1.6342\n",
            "Epoch [1, Batch   300]: Loss = 1.5205\n",
            "Epoch [1, Batch   400]: Loss = 1.4439\n",
            "Epoch [1, Batch   500]: Loss = 1.3645\n",
            "Epoch [1, Batch   600]: Loss = 1.2934\n",
            "Epoch [1, Batch   700]: Loss = 1.2551\n",
            "Epoch [2, Batch   100]: Loss = 1.1638\n",
            "Epoch [2, Batch   200]: Loss = 1.1091\n",
            "Epoch [2, Batch   300]: Loss = 1.1080\n",
            "Epoch [2, Batch   400]: Loss = 1.0689\n",
            "Epoch [2, Batch   500]: Loss = 1.0471\n",
            "Epoch [2, Batch   600]: Loss = 1.0145\n",
            "Epoch [2, Batch   700]: Loss = 1.0305\n",
            "Epoch [3, Batch   100]: Loss = 0.9271\n",
            "Epoch [3, Batch   200]: Loss = 0.9482\n",
            "Epoch [3, Batch   300]: Loss = 0.9238\n",
            "Epoch [3, Batch   400]: Loss = 0.8901\n",
            "Epoch [3, Batch   500]: Loss = 0.8937\n",
            "Epoch [3, Batch   600]: Loss = 0.9039\n",
            "Epoch [3, Batch   700]: Loss = 0.8794\n",
            "Epoch [4, Batch   100]: Loss = 0.7903\n",
            "Epoch [4, Batch   200]: Loss = 0.8113\n",
            "Epoch [4, Batch   300]: Loss = 0.7882\n",
            "Epoch [4, Batch   400]: Loss = 0.7981\n",
            "Epoch [4, Batch   500]: Loss = 0.7812\n",
            "Epoch [4, Batch   600]: Loss = 0.7972\n",
            "Epoch [4, Batch   700]: Loss = 0.7809\n",
            "Epoch [5, Batch   100]: Loss = 0.7012\n",
            "Epoch [5, Batch   200]: Loss = 0.6637\n",
            "Epoch [5, Batch   300]: Loss = 0.7011\n",
            "Epoch [5, Batch   400]: Loss = 0.7265\n",
            "Epoch [5, Batch   500]: Loss = 0.7092\n",
            "Epoch [5, Batch   600]: Loss = 0.6929\n",
            "Epoch [5, Batch   700]: Loss = 0.7347\n",
            "Epoch [6, Batch   100]: Loss = 0.5972\n",
            "Epoch [6, Batch   200]: Loss = 0.5887\n",
            "Epoch [6, Batch   300]: Loss = 0.6297\n",
            "Epoch [6, Batch   400]: Loss = 0.6285\n",
            "Epoch [6, Batch   500]: Loss = 0.6217\n",
            "Epoch [6, Batch   600]: Loss = 0.6131\n",
            "Epoch [6, Batch   700]: Loss = 0.6288\n",
            "Epoch [7, Batch   100]: Loss = 0.5083\n",
            "Epoch [7, Batch   200]: Loss = 0.5160\n",
            "Epoch [7, Batch   300]: Loss = 0.5355\n",
            "Epoch [7, Batch   400]: Loss = 0.5395\n",
            "Epoch [7, Batch   500]: Loss = 0.5700\n",
            "Epoch [7, Batch   600]: Loss = 0.5473\n",
            "Epoch [7, Batch   700]: Loss = 0.5701\n",
            "Epoch [8, Batch   100]: Loss = 0.4410\n",
            "Epoch [8, Batch   200]: Loss = 0.4409\n",
            "Epoch [8, Batch   300]: Loss = 0.4586\n",
            "Epoch [8, Batch   400]: Loss = 0.4438\n",
            "Epoch [8, Batch   500]: Loss = 0.4677\n",
            "Epoch [8, Batch   600]: Loss = 0.4847\n",
            "Epoch [8, Batch   700]: Loss = 0.4841\n",
            "Epoch [9, Batch   100]: Loss = 0.3620\n",
            "Epoch [9, Batch   200]: Loss = 0.3677\n",
            "Epoch [9, Batch   300]: Loss = 0.3639\n",
            "Epoch [9, Batch   400]: Loss = 0.3938\n",
            "Epoch [9, Batch   500]: Loss = 0.4048\n",
            "Epoch [9, Batch   600]: Loss = 0.4043\n",
            "Epoch [9, Batch   700]: Loss = 0.3992\n",
            "Epoch [10, Batch   100]: Loss = 0.2900\n",
            "Epoch [10, Batch   200]: Loss = 0.2816\n",
            "Epoch [10, Batch   300]: Loss = 0.3110\n",
            "Epoch [10, Batch   400]: Loss = 0.3179\n",
            "Epoch [10, Batch   500]: Loss = 0.3411\n",
            "Epoch [10, Batch   600]: Loss = 0.3228\n",
            "Epoch [10, Batch   700]: Loss = 0.3243\n",
            "Finished Training\n"
          ]
        }
      ],
      "source": [
        "epoch_nums = 10 ## Number of epochs\n",
        "for epoch in range(epoch_nums):  # loop over the dataset multiple times\n",
        "\n",
        "    running_loss = 0.0\n",
        "    for i, data in enumerate(trainloader, 0):\n",
        "        ## FILL HERE\n",
        "        ## You should train the model and also print the running loss for each batch\n",
        "        inputs, labels = data\n",
        "        optimizer.zero_grad()\n",
        "\n",
        "        outputs = net(inputs)\n",
        "        loss = lossFunc(outputs, labels)\n",
        "        loss.backward()\n",
        "        optimizer.step()\n",
        "\n",
        "        running_loss += loss.item() # todo\n",
        "        if i % 100 == 99: \n",
        "          print(f'Epoch [{epoch + 1}, Batch {i + 1:5d}]: Loss = {running_loss / 100:.4f}')\n",
        "          running_loss = 0.0\n",
        "print('Finished Training')"
      ]
    },
    {
      "cell_type": "markdown",
      "id": "14558277",
      "metadata": {
        "id": "14558277"
      },
      "source": [
        "## Test the network on the test data\n",
        "\n",
        "In the following section, you should test your network and calculate the accuracy of your model on the test dataset."
      ]
    },
    {
      "cell_type": "code",
      "execution_count": 9,
      "id": "fb0f4803",
      "metadata": {
        "colab": {
          "base_uri": "https://localhost:8080/"
        },
        "id": "fb0f4803",
        "outputId": "10017894-76b4-4eca-bd16-18148d729a35"
      },
      "outputs": [
        {
          "output_type": "stream",
          "name": "stdout",
          "text": [
            "Accuracy of the network on the 10000 test images: 69 %\n"
          ]
        }
      ],
      "source": [
        "correct = 0\n",
        "total = 0\n",
        "# since we're not training, we don't need to calculate the gradients for our outputs\n",
        "with torch.no_grad():\n",
        "    for data in testloader:\n",
        "        ## FILL HERE\n",
        "        inputs, labels = data\n",
        "        outputs = net(inputs)\n",
        "        _, predicted = torch.max(outputs.data, 1)\n",
        "        total += labels.size(0)\n",
        "        correct += (predicted == labels).sum().item()\n",
        "\n",
        "print(f'Accuracy of the network on the 10000 test images: {100 * correct // total} %')"
      ]
    },
    {
      "cell_type": "markdown",
      "id": "9a90c190",
      "metadata": {
        "id": "9a90c190"
      },
      "source": [
        "Here, we also calculate the model performance for each class as well."
      ]
    },
    {
      "cell_type": "code",
      "execution_count": 10,
      "id": "8afd6a24",
      "metadata": {
        "colab": {
          "base_uri": "https://localhost:8080/"
        },
        "id": "8afd6a24",
        "outputId": "2657c9d6-3094-4b87-b9cb-27e8ca7d4ddd"
      },
      "outputs": [
        {
          "output_type": "stream",
          "name": "stdout",
          "text": [
            "Accuracy for class: airplane is 75.1 %\n",
            "Accuracy for class: automobile is 77.7 %\n",
            "Accuracy for class: bird  is 70.8 %\n",
            "Accuracy for class: cat   is 45.6 %\n",
            "Accuracy for class: deer  is 51.9 %\n",
            "Accuracy for class: dog   is 60.0 %\n",
            "Accuracy for class: frog  is 82.6 %\n",
            "Accuracy for class: horse is 75.4 %\n",
            "Accuracy for class: ship  is 84.3 %\n",
            "Accuracy for class: truck is 76.4 %\n"
          ]
        }
      ],
      "source": [
        "# prepare to count predictions for each class\n",
        "correct_pred = {classname: 0 for classname in classes}\n",
        "total_pred = {classname: 0 for classname in classes}\n",
        "\n",
        "# again no gradients needed\n",
        "with torch.no_grad():\n",
        "    for data in testloader:\n",
        "        ## FILL HERE\n",
        "        inputs, labels = data\n",
        "        outputs = net(inputs)\n",
        "        _, predicted = torch.max(outputs.data, 1)\n",
        "        for label, prediction in zip(labels, predicted):\n",
        "            classname = classes[label]\n",
        "            if prediction == label:\n",
        "                correct_pred[classname] += 1\n",
        "            total_pred[classname] += 1\n",
        "\n",
        "# print accuracy for each class\n",
        "for classname, correct_count in correct_pred.items():\n",
        "    accuracy = 100 * float(correct_count) / total_pred[classname]\n",
        "    print(f'Accuracy for class: {classname:5s} is {accuracy:.1f} %')"
      ]
    }
  ],
  "metadata": {
    "kernelspec": {
      "display_name": "Python 3",
      "language": "python",
      "name": "python3"
    },
    "language_info": {
      "codemirror_mode": {
        "name": "ipython",
        "version": 3
      },
      "file_extension": ".py",
      "mimetype": "text/x-python",
      "name": "python",
      "nbconvert_exporter": "python",
      "pygments_lexer": "ipython3",
      "version": "3.8.3"
    },
    "colab": {
      "provenance": [],
      "include_colab_link": true
    }
  },
  "nbformat": 4,
  "nbformat_minor": 5
}